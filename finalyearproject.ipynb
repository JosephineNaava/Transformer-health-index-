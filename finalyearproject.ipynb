{
  "cells": [
    {
      "cell_type": "markdown",
      "metadata": {
        "id": "view-in-github",
        "colab_type": "text"
      },
      "source": [
        "<a href=\"https://colab.research.google.com/github/JosephineNaava/Transformer-health-index-/blob/main/finalyearproject.ipynb\" target=\"_parent\"><img src=\"https://colab.research.google.com/assets/colab-badge.svg\" alt=\"Open In Colab\"/></a>"
      ]
    },
    {
      "cell_type": "markdown",
      "metadata": {
        "id": "22rgK2M_qucb"
      },
      "source": [
        "PROJECT"
      ]
    },
    {
      "cell_type": "code",
      "execution_count": null,
      "metadata": {
        "id": "I3KTOaLBzgp9"
      },
      "outputs": [],
      "source": [
        "from google.colab import drive\n",
        "drive.mount('/gdrive')\n",
        "%cd /gdrive"
      ]
    },
    {
      "cell_type": "code",
      "execution_count": null,
      "metadata": {
        "id": "dQfkVNocPv-Y"
      },
      "outputs": [],
      "source": [
        "! pip install https://github.com/pandas-profiling/pandas-profiling/archive/master.zip "
      ]
    },
    {
      "cell_type": "code",
      "execution_count": null,
      "metadata": {
        "id": "IXJg2fnOWBKo"
      },
      "outputs": [],
      "source": [
        "#profile.to_notebook_iframe()"
      ]
    },
    {
      "cell_type": "code",
      "execution_count": null,
      "metadata": {
        "id": "5DX1xLrGquGW"
      },
      "outputs": [],
      "source": [
        "import pandas as pd\n",
        "import seaborn as sns\n",
        "import numpy as np\n",
        "import matplotlib.pyplot as plt\n",
        "import os\n",
        "from pandas_profiling import ProfileReport\n",
        "%matplotlib inline"
      ]
    },
    {
      "cell_type": "code",
      "execution_count": null,
      "metadata": {
        "id": "FFvn7lVbuNCf"
      },
      "outputs": [],
      "source": [
        "df= pd.read_csv('/gdrive/MyDrive/fyp dataset/transformer data califonia.zip')"
      ]
    },
    {
      "cell_type": "code",
      "execution_count": null,
      "metadata": {
        "id": "JvdMX5jc4Zm-"
      },
      "outputs": [],
      "source": [
        "data= pd.read_csv('/gdrive/MyDrive/fyp dataset/transformer data califonia.zip')"
      ]
    },
    {
      "cell_type": "code",
      "execution_count": null,
      "metadata": {
        "id": "zNi-alhkXJnF"
      },
      "outputs": [],
      "source": [
        "data.head()"
      ]
    },
    {
      "cell_type": "code",
      "execution_count": null,
      "metadata": {
        "id": "7CISrvnZtRDq"
      },
      "outputs": [],
      "source": [
        ""
      ]
    },
    {
      "cell_type": "code",
      "execution_count": null,
      "metadata": {
        "id": "a9CLxeNi8q4k"
      },
      "outputs": [],
      "source": [
        "data.info()"
      ]
    },
    {
      "cell_type": "code",
      "execution_count": null,
      "metadata": {
        "id": "Ix_Mmm3k8qqz"
      },
      "outputs": [],
      "source": [
        "data.describe()"
      ]
    },
    {
      "cell_type": "markdown",
      "metadata": {
        "id": "QmiO-1Tpc8GM"
      },
      "source": [
        "GRAPHS"
      ]
    },
    {
      "cell_type": "code",
      "execution_count": null,
      "metadata": {
        "id": "cHNLosVexURL"
      },
      "outputs": [],
      "source": [
        "plt.figure(figsize=(15,7))\n",
        "plt.style.use(\"fivethirtyeight\")\n",
        "sns.kdeplot(data=data, x=\"Hydrogen\")"
      ]
    },
    {
      "cell_type": "code",
      "execution_count": null,
      "metadata": {
        "id": "FwEfeCIOc8th"
      },
      "outputs": [],
      "source": [
        "plt.figure(figsize=(15,7))\n",
        "plt.style.use(\"fivethirtyeight\")\n",
        "sns.kdeplot(data=data, x=\"Oxigen\")"
      ]
    },
    {
      "cell_type": "code",
      "execution_count": null,
      "metadata": {
        "id": "Hkq8Xiq1eV5u"
      },
      "outputs": [],
      "source": [
        "sns.pairplot(data=data)"
      ]
    },
    {
      "cell_type": "code",
      "execution_count": null,
      "metadata": {
        "id": "aMcmLiknLmFs"
      },
      "outputs": [],
      "source": [
        "wiki = pd.read_csv(\"/gdrive/MyDrive/fyp dataset/transformer data califonia.zip\")\n",
        "# add id column\n",
        "wiki['id'] = range(0, len(wiki))\n",
        "wiki.head(10)"
      ]
    },
    {
      "cell_type": "markdown",
      "metadata": {
        "id": "jDxtjB6gZA3Y"
      },
      "source": [
        "PROFILING"
      ]
    },
    {
      "cell_type": "code",
      "execution_count": null,
      "metadata": {
        "id": "2C1CxDI3P93C"
      },
      "outputs": [],
      "source": [
        "profile = ProfileReport(df, title=\"Transformer profile\", html={\"style\":{\"full_width\":True}})"
      ]
    },
    {
      "cell_type": "code",
      "execution_count": null,
      "metadata": {
        "id": "658gw3-0QY6u"
      },
      "outputs": [],
      "source": [
        "profile.to_notebook_iframe()"
      ]
    },
    {
      "cell_type": "code",
      "execution_count": null,
      "metadata": {
        "id": "Xe9t1NdyXAKO"
      },
      "outputs": [],
      "source": [
        "# to save/ output the file\n",
        "#profile.to_file(output_file=\"Transformer_profile.html\")"
      ]
    },
    {
      "cell_type": "code",
      "execution_count": null,
      "metadata": {
        "id": "5MGE4MwI5XOf"
      },
      "outputs": [],
      "source": [
        "data.profile_report()"
      ]
    },
    {
      "cell_type": "code",
      "execution_count": null,
      "metadata": {
        "id": "GcBCmMxj9Vmx"
      },
      "outputs": [],
      "source": [
        "X = data.drop(columns= ['Health index','Life expectation'])\n",
        "X"
      ]
    },
    {
      "cell_type": "code",
      "execution_count": null,
      "metadata": {
        "id": "J8D5fmFk5Oov"
      },
      "outputs": [],
      "source": [
        "X.shape"
      ]
    },
    {
      "cell_type": "code",
      "execution_count": null,
      "metadata": {
        "id": "somoj7UF-j_v"
      },
      "outputs": [],
      "source": [
        "Y = data[['Health index', 'Life expectation']]\n",
        "Y"
      ]
    },
    {
      "cell_type": "code",
      "execution_count": null,
      "metadata": {
        "id": "_M6NLDmQ5UsL"
      },
      "outputs": [],
      "source": [
        "Y.shape"
      ]
    },
    {
      "cell_type": "markdown",
      "metadata": {
        "id": "IVJihf3b0sNQ"
      },
      "source": [
        "VARIABLES"
      ]
    },
    {
      "cell_type": "code",
      "execution_count": null,
      "metadata": {
        "id": "5TqUKoozeuAv"
      },
      "outputs": [],
      "source": [
        "import seaborn as sns\n",
        "import matplotlib.pyplot as plt"
      ]
    },
    {
      "cell_type": "code",
      "execution_count": null,
      "metadata": {
        "id": "siQ29CTD0a87"
      },
      "outputs": [],
      "source": [
        "plt.figure(figsize=(20,10))\n",
        "c=data.corr()\n",
        "sns.heatmap(c,cmap='BrBG',annot=True)"
      ]
    },
    {
      "cell_type": "markdown",
      "metadata": {
        "id": "iVc3hoeZiHPK"
      },
      "source": [
        "Splitting the dataset into training set and test set"
      ]
    },
    {
      "cell_type": "code",
      "execution_count": null,
      "metadata": {
        "id": "86-yeG9LBEKa"
      },
      "outputs": [],
      "source": [
        "from sklearn.model_selection import train_test_split"
      ]
    },
    {
      "cell_type": "code",
      "execution_count": null,
      "metadata": {
        "id": "NmQeWsLSjDFZ"
      },
      "outputs": [],
      "source": [
        "X_train, X_test, Y_train, Y_test = train_test_split(X, Y, test_size = 1/3, random_state = 0)"
      ]
    },
    {
      "cell_type": "code",
      "execution_count": null,
      "metadata": {
        "id": "yvqbxrEnsABL"
      },
      "outputs": [],
      "source": [
        "X_train.shape"
      ]
    },
    {
      "cell_type": "code",
      "execution_count": null,
      "metadata": {
        "id": "d5jvk5c9kAJH"
      },
      "outputs": [],
      "source": [
        "print('Train dataset', X_train)\n",
        "print('TEST DATA', X_test)\n",
        "print('Output dataset', Y_train)\n",
        "print(Y_test)\n"
      ]
    },
    {
      "cell_type": "markdown",
      "metadata": {
        "id": "E-waNaq0nt3R"
      },
      "source": [
        "FEATURE SCALING\n"
      ]
    },
    {
      "cell_type": "markdown",
      "metadata": {
        "id": "BHWCif_soNTb"
      },
      "source": [
        "FITTING SIMPLE LINEAR REGRESSION TO THE TRAINING SET"
      ]
    },
    {
      "cell_type": "code",
      "execution_count": null,
      "metadata": {
        "id": "4MF96Xl6l6zQ"
      },
      "outputs": [],
      "source": [
        "from sklearn. linear_model import LinearRegression\n",
        "regressor = LinearRegression()\n",
        "history=regressor.fit(X_train, Y_train)"
      ]
    },
    {
      "cell_type": "markdown",
      "metadata": {
        "id": "VsBJGuoOqJF4"
      },
      "source": [
        "PREDICTING THE TEST SET RESULTS"
      ]
    },
    {
      "cell_type": "code",
      "execution_count": null,
      "metadata": {
        "id": "b6UtqpIpqT7x"
      },
      "outputs": [],
      "source": [
        "Y_pred = regressor.predict(X_test)\n",
        "Y_pred"
      ]
    },
    {
      "cell_type": "code",
      "execution_count": null,
      "metadata": {
        "id": "J6Xw9lhnN7o0"
      },
      "outputs": [],
      "source": [
        "Y_test"
      ]
    },
    {
      "cell_type": "code",
      "execution_count": null,
      "metadata": {
        "id": "acNMXSi4Oe1z"
      },
      "outputs": [],
      "source": [
        "Y_pred.shape"
      ]
    },
    {
      "cell_type": "code",
      "execution_count": null,
      "metadata": {
        "id": "cT3Aq-fdNnBf"
      },
      "outputs": [],
      "source": [
        "results = Y_test.copy()\n",
        "results[\"Predicted Health Index\"] = Y_pred[:,0]\n",
        "results[\"Predicted Life expectation\"] = Y_pred[:,1]\n",
        "results['Transformer_id'] = [i for i in range(len(results))]\n",
        "results = results[[\"Transformer_id\", \"Health index\", \"Predicted Health Index\", \"Life expectation\", \"Predicted Life expectation\"]]\n",
        "results"
      ]
    },
    {
      "cell_type": "markdown",
      "metadata": {
        "id": "SShG2aOTwMFv"
      },
      "source": [
        "VISUALISING THE TRAINING SET RESULTS"
      ]
    },
    {
      "cell_type": "code",
      "execution_count": null,
      "metadata": {
        "id": "eEMBl2fJ14uE"
      },
      "outputs": [],
      "source": [
        "# X = data.iloc[:, :-1].values\n",
        "# y = data.iloc[:, 1].values"
      ]
    },
    {
      "cell_type": "code",
      "execution_count": null,
      "metadata": {
        "id": "OPDRuj-B1Bhh"
      },
      "outputs": [],
      "source": [
        "X_train=np.arange(0, len(X_train),1)"
      ]
    },
    {
      "cell_type": "code",
      "execution_count": null,
      "metadata": {
        "id": "OoYNYb_qvM9v"
      },
      "outputs": [],
      "source": [
        "plt.scatter(X_train, Y_train, color = 'red')\n",
        "plt.plot(X_train, regressor.predict(X_train), color = 'blue')\n",
        "plt.title('inputs vs output(training set)')\n",
        "plt.Xlabel('inputs')\n",
        "plt.Ylabel('outputs')\n",
        "plt.show()"
      ]
    }
  ],
  "metadata": {
    "accelerator": "GPU",
    "colab": {
      "collapsed_sections": [],
      "name": "finalyearproject.ipynb",
      "provenance": [],
      "mount_file_id": "1-fbqIpq5OVUwMRsyG9Q-FyIKATjfvMoK",
      "authorship_tag": "ABX9TyOZnBNnzEenfewr1KPxIRnX",
      "include_colab_link": true
    },
    "gpuClass": "standard",
    "kernelspec": {
      "display_name": "Python 3",
      "name": "python3"
    },
    "language_info": {
      "name": "python"
    }
  },
  "nbformat": 4,
  "nbformat_minor": 0
}